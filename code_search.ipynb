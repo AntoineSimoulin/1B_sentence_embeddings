{
  "nbformat": 4,
  "nbformat_minor": 0,
  "metadata": {
    "colab": {
      "name": "code_search.ipynb",
      "provenance": [],
      "collapsed_sections": []
    },
    "kernelspec": {
      "name": "python3",
      "display_name": "Python 3"
    },
    "language_info": {
      "name": "python"
    },
    "accelerator": "TPU",
    "widgets": {
      "application/vnd.jupyter.widget-state+json": {
        "a70ea434abb24f9782b14583d4aa6b9e": {
          "model_module": "@jupyter-widgets/controls",
          "model_name": "HBoxModel",
          "state": {
            "_view_name": "HBoxView",
            "_dom_classes": [],
            "_model_name": "HBoxModel",
            "_view_module": "@jupyter-widgets/controls",
            "_model_module_version": "1.5.0",
            "_view_count": null,
            "_view_module_version": "1.5.0",
            "box_style": "",
            "layout": "IPY_MODEL_73302907bd7b4787b22d299fcbd85bb8",
            "_model_module": "@jupyter-widgets/controls",
            "children": [
              "IPY_MODEL_35427c77f0c24b9fb7544bdd2a1df1a5",
              "IPY_MODEL_c335ef7db978456d88f25aa0fabb5c65"
            ]
          }
        },
        "73302907bd7b4787b22d299fcbd85bb8": {
          "model_module": "@jupyter-widgets/base",
          "model_name": "LayoutModel",
          "state": {
            "_view_name": "LayoutView",
            "grid_template_rows": null,
            "right": null,
            "justify_content": null,
            "_view_module": "@jupyter-widgets/base",
            "overflow": null,
            "_model_module_version": "1.2.0",
            "_view_count": null,
            "flex_flow": null,
            "width": null,
            "min_width": null,
            "border": null,
            "align_items": null,
            "bottom": null,
            "_model_module": "@jupyter-widgets/base",
            "top": null,
            "grid_column": null,
            "overflow_y": null,
            "overflow_x": null,
            "grid_auto_flow": null,
            "grid_area": null,
            "grid_template_columns": null,
            "flex": null,
            "_model_name": "LayoutModel",
            "justify_items": null,
            "grid_row": null,
            "max_height": null,
            "align_content": null,
            "visibility": null,
            "align_self": null,
            "height": null,
            "min_height": null,
            "padding": null,
            "grid_auto_rows": null,
            "grid_gap": null,
            "max_width": null,
            "order": null,
            "_view_module_version": "1.2.0",
            "grid_template_areas": null,
            "object_position": null,
            "object_fit": null,
            "grid_auto_columns": null,
            "margin": null,
            "display": null,
            "left": null
          }
        },
        "35427c77f0c24b9fb7544bdd2a1df1a5": {
          "model_module": "@jupyter-widgets/controls",
          "model_name": "FloatProgressModel",
          "state": {
            "_view_name": "ProgressView",
            "style": "IPY_MODEL_5ca39d7fcdaa4a179d59b487f56acef8",
            "_dom_classes": [],
            "description": "100%",
            "_model_name": "FloatProgressModel",
            "bar_style": "success",
            "max": 137507,
            "_view_module": "@jupyter-widgets/controls",
            "_model_module_version": "1.5.0",
            "value": 137507,
            "_view_count": null,
            "_view_module_version": "1.5.0",
            "orientation": "horizontal",
            "min": 0,
            "description_tooltip": null,
            "_model_module": "@jupyter-widgets/controls",
            "layout": "IPY_MODEL_b57259fb7c6f46d983d6eafa2056a969"
          }
        },
        "c335ef7db978456d88f25aa0fabb5c65": {
          "model_module": "@jupyter-widgets/controls",
          "model_name": "HTMLModel",
          "state": {
            "_view_name": "HTMLView",
            "style": "IPY_MODEL_097df61f24124b44b366ec8ce7d859d4",
            "_dom_classes": [],
            "description": "",
            "_model_name": "HTMLModel",
            "placeholder": "​",
            "_view_module": "@jupyter-widgets/controls",
            "_model_module_version": "1.5.0",
            "value": " 137507/137507 [00:58&lt;00:00, 2361.07it/s]",
            "_view_count": null,
            "_view_module_version": "1.5.0",
            "description_tooltip": null,
            "_model_module": "@jupyter-widgets/controls",
            "layout": "IPY_MODEL_2de689c700454e9fa6a79fa0e6b588d0"
          }
        },
        "5ca39d7fcdaa4a179d59b487f56acef8": {
          "model_module": "@jupyter-widgets/controls",
          "model_name": "ProgressStyleModel",
          "state": {
            "_view_name": "StyleView",
            "_model_name": "ProgressStyleModel",
            "description_width": "initial",
            "_view_module": "@jupyter-widgets/base",
            "_model_module_version": "1.5.0",
            "_view_count": null,
            "_view_module_version": "1.2.0",
            "bar_color": null,
            "_model_module": "@jupyter-widgets/controls"
          }
        },
        "b57259fb7c6f46d983d6eafa2056a969": {
          "model_module": "@jupyter-widgets/base",
          "model_name": "LayoutModel",
          "state": {
            "_view_name": "LayoutView",
            "grid_template_rows": null,
            "right": null,
            "justify_content": null,
            "_view_module": "@jupyter-widgets/base",
            "overflow": null,
            "_model_module_version": "1.2.0",
            "_view_count": null,
            "flex_flow": null,
            "width": null,
            "min_width": null,
            "border": null,
            "align_items": null,
            "bottom": null,
            "_model_module": "@jupyter-widgets/base",
            "top": null,
            "grid_column": null,
            "overflow_y": null,
            "overflow_x": null,
            "grid_auto_flow": null,
            "grid_area": null,
            "grid_template_columns": null,
            "flex": null,
            "_model_name": "LayoutModel",
            "justify_items": null,
            "grid_row": null,
            "max_height": null,
            "align_content": null,
            "visibility": null,
            "align_self": null,
            "height": null,
            "min_height": null,
            "padding": null,
            "grid_auto_rows": null,
            "grid_gap": null,
            "max_width": null,
            "order": null,
            "_view_module_version": "1.2.0",
            "grid_template_areas": null,
            "object_position": null,
            "object_fit": null,
            "grid_auto_columns": null,
            "margin": null,
            "display": null,
            "left": null
          }
        },
        "097df61f24124b44b366ec8ce7d859d4": {
          "model_module": "@jupyter-widgets/controls",
          "model_name": "DescriptionStyleModel",
          "state": {
            "_view_name": "StyleView",
            "_model_name": "DescriptionStyleModel",
            "description_width": "",
            "_view_module": "@jupyter-widgets/base",
            "_model_module_version": "1.5.0",
            "_view_count": null,
            "_view_module_version": "1.2.0",
            "_model_module": "@jupyter-widgets/controls"
          }
        },
        "2de689c700454e9fa6a79fa0e6b588d0": {
          "model_module": "@jupyter-widgets/base",
          "model_name": "LayoutModel",
          "state": {
            "_view_name": "LayoutView",
            "grid_template_rows": null,
            "right": null,
            "justify_content": null,
            "_view_module": "@jupyter-widgets/base",
            "overflow": null,
            "_model_module_version": "1.2.0",
            "_view_count": null,
            "flex_flow": null,
            "width": null,
            "min_width": null,
            "border": null,
            "align_items": null,
            "bottom": null,
            "_model_module": "@jupyter-widgets/base",
            "top": null,
            "grid_column": null,
            "overflow_y": null,
            "overflow_x": null,
            "grid_auto_flow": null,
            "grid_area": null,
            "grid_template_columns": null,
            "flex": null,
            "_model_name": "LayoutModel",
            "justify_items": null,
            "grid_row": null,
            "max_height": null,
            "align_content": null,
            "visibility": null,
            "align_self": null,
            "height": null,
            "min_height": null,
            "padding": null,
            "grid_auto_rows": null,
            "grid_gap": null,
            "max_width": null,
            "order": null,
            "_view_module_version": "1.2.0",
            "grid_template_areas": null,
            "object_position": null,
            "object_fit": null,
            "grid_auto_columns": null,
            "margin": null,
            "display": null,
            "left": null
          }
        },
        "88a8e6aaa32841929f986612419ca7a3": {
          "model_module": "@jupyter-widgets/controls",
          "model_name": "HBoxModel",
          "state": {
            "_view_name": "HBoxView",
            "_dom_classes": [],
            "_model_name": "HBoxModel",
            "_view_module": "@jupyter-widgets/controls",
            "_model_module_version": "1.5.0",
            "_view_count": null,
            "_view_module_version": "1.5.0",
            "box_style": "",
            "layout": "IPY_MODEL_84a08391d1834a31a3235dfcf421833f",
            "_model_module": "@jupyter-widgets/controls",
            "children": [
              "IPY_MODEL_9bdc2dd918b14486917c7980d8d5f33c",
              "IPY_MODEL_490ac1b4d4bb42a1a7f962551caa7e92"
            ]
          }
        },
        "84a08391d1834a31a3235dfcf421833f": {
          "model_module": "@jupyter-widgets/base",
          "model_name": "LayoutModel",
          "state": {
            "_view_name": "LayoutView",
            "grid_template_rows": null,
            "right": null,
            "justify_content": null,
            "_view_module": "@jupyter-widgets/base",
            "overflow": null,
            "_model_module_version": "1.2.0",
            "_view_count": null,
            "flex_flow": null,
            "width": null,
            "min_width": null,
            "border": null,
            "align_items": null,
            "bottom": null,
            "_model_module": "@jupyter-widgets/base",
            "top": null,
            "grid_column": null,
            "overflow_y": null,
            "overflow_x": null,
            "grid_auto_flow": null,
            "grid_area": null,
            "grid_template_columns": null,
            "flex": null,
            "_model_name": "LayoutModel",
            "justify_items": null,
            "grid_row": null,
            "max_height": null,
            "align_content": null,
            "visibility": null,
            "align_self": null,
            "height": null,
            "min_height": null,
            "padding": null,
            "grid_auto_rows": null,
            "grid_gap": null,
            "max_width": null,
            "order": null,
            "_view_module_version": "1.2.0",
            "grid_template_areas": null,
            "object_position": null,
            "object_fit": null,
            "grid_auto_columns": null,
            "margin": null,
            "display": null,
            "left": null
          }
        },
        "9bdc2dd918b14486917c7980d8d5f33c": {
          "model_module": "@jupyter-widgets/controls",
          "model_name": "FloatProgressModel",
          "state": {
            "_view_name": "ProgressView",
            "style": "IPY_MODEL_d1faf12fef8b4008bd8bfcf635225802",
            "_dom_classes": [],
            "description": "100%",
            "_model_name": "FloatProgressModel",
            "bar_style": "success",
            "max": 1237560,
            "_view_module": "@jupyter-widgets/controls",
            "_model_module_version": "1.5.0",
            "value": 1237560,
            "_view_count": null,
            "_view_module_version": "1.5.0",
            "orientation": "horizontal",
            "min": 0,
            "description_tooltip": null,
            "_model_module": "@jupyter-widgets/controls",
            "layout": "IPY_MODEL_16944acda97649be843074b0f168c111"
          }
        },
        "490ac1b4d4bb42a1a7f962551caa7e92": {
          "model_module": "@jupyter-widgets/controls",
          "model_name": "HTMLModel",
          "state": {
            "_view_name": "HTMLView",
            "style": "IPY_MODEL_982126fde55b42f4b74d9f644a98b834",
            "_dom_classes": [],
            "description": "",
            "_model_name": "HTMLModel",
            "placeholder": "​",
            "_view_module": "@jupyter-widgets/controls",
            "_model_module_version": "1.5.0",
            "value": " 1237560/1237560 [00:52&lt;00:00, 23458.78it/s]",
            "_view_count": null,
            "_view_module_version": "1.5.0",
            "description_tooltip": null,
            "_model_module": "@jupyter-widgets/controls",
            "layout": "IPY_MODEL_cafdf429e2da49cfb2718baa548ae04d"
          }
        },
        "d1faf12fef8b4008bd8bfcf635225802": {
          "model_module": "@jupyter-widgets/controls",
          "model_name": "ProgressStyleModel",
          "state": {
            "_view_name": "StyleView",
            "_model_name": "ProgressStyleModel",
            "description_width": "initial",
            "_view_module": "@jupyter-widgets/base",
            "_model_module_version": "1.5.0",
            "_view_count": null,
            "_view_module_version": "1.2.0",
            "bar_color": null,
            "_model_module": "@jupyter-widgets/controls"
          }
        },
        "16944acda97649be843074b0f168c111": {
          "model_module": "@jupyter-widgets/base",
          "model_name": "LayoutModel",
          "state": {
            "_view_name": "LayoutView",
            "grid_template_rows": null,
            "right": null,
            "justify_content": null,
            "_view_module": "@jupyter-widgets/base",
            "overflow": null,
            "_model_module_version": "1.2.0",
            "_view_count": null,
            "flex_flow": null,
            "width": null,
            "min_width": null,
            "border": null,
            "align_items": null,
            "bottom": null,
            "_model_module": "@jupyter-widgets/base",
            "top": null,
            "grid_column": null,
            "overflow_y": null,
            "overflow_x": null,
            "grid_auto_flow": null,
            "grid_area": null,
            "grid_template_columns": null,
            "flex": null,
            "_model_name": "LayoutModel",
            "justify_items": null,
            "grid_row": null,
            "max_height": null,
            "align_content": null,
            "visibility": null,
            "align_self": null,
            "height": null,
            "min_height": null,
            "padding": null,
            "grid_auto_rows": null,
            "grid_gap": null,
            "max_width": null,
            "order": null,
            "_view_module_version": "1.2.0",
            "grid_template_areas": null,
            "object_position": null,
            "object_fit": null,
            "grid_auto_columns": null,
            "margin": null,
            "display": null,
            "left": null
          }
        },
        "982126fde55b42f4b74d9f644a98b834": {
          "model_module": "@jupyter-widgets/controls",
          "model_name": "DescriptionStyleModel",
          "state": {
            "_view_name": "StyleView",
            "_model_name": "DescriptionStyleModel",
            "description_width": "",
            "_view_module": "@jupyter-widgets/base",
            "_model_module_version": "1.5.0",
            "_view_count": null,
            "_view_module_version": "1.2.0",
            "_model_module": "@jupyter-widgets/controls"
          }
        },
        "cafdf429e2da49cfb2718baa548ae04d": {
          "model_module": "@jupyter-widgets/base",
          "model_name": "LayoutModel",
          "state": {
            "_view_name": "LayoutView",
            "grid_template_rows": null,
            "right": null,
            "justify_content": null,
            "_view_module": "@jupyter-widgets/base",
            "overflow": null,
            "_model_module_version": "1.2.0",
            "_view_count": null,
            "flex_flow": null,
            "width": null,
            "min_width": null,
            "border": null,
            "align_items": null,
            "bottom": null,
            "_model_module": "@jupyter-widgets/base",
            "top": null,
            "grid_column": null,
            "overflow_y": null,
            "overflow_x": null,
            "grid_auto_flow": null,
            "grid_area": null,
            "grid_template_columns": null,
            "flex": null,
            "_model_name": "LayoutModel",
            "justify_items": null,
            "grid_row": null,
            "max_height": null,
            "align_content": null,
            "visibility": null,
            "align_self": null,
            "height": null,
            "min_height": null,
            "padding": null,
            "grid_auto_rows": null,
            "grid_gap": null,
            "max_width": null,
            "order": null,
            "_view_module_version": "1.2.0",
            "grid_template_areas": null,
            "object_position": null,
            "object_fit": null,
            "grid_auto_columns": null,
            "margin": null,
            "display": null,
            "left": null
          }
        },
        "f4a2d67c800344789f6e179de38897c2": {
          "model_module": "@jupyter-widgets/controls",
          "model_name": "VBoxModel",
          "state": {
            "_view_name": "VBoxView",
            "_dom_classes": [],
            "_model_name": "VBoxModel",
            "_view_module": "@jupyter-widgets/controls",
            "_model_module_version": "1.5.0",
            "_view_count": null,
            "_view_module_version": "1.5.0",
            "box_style": "",
            "layout": "IPY_MODEL_65029c069ed64ec197a6e15e2f8e99af",
            "_model_module": "@jupyter-widgets/controls",
            "children": [
              "IPY_MODEL_88911981966947ea85f4b36a520722ee",
              "IPY_MODEL_0d7e0fe7689546ca96a1e899a50a8b34"
            ]
          }
        },
        "65029c069ed64ec197a6e15e2f8e99af": {
          "model_module": "@jupyter-widgets/base",
          "model_name": "LayoutModel",
          "state": {
            "_view_name": "LayoutView",
            "grid_template_rows": null,
            "right": null,
            "justify_content": null,
            "_view_module": "@jupyter-widgets/base",
            "overflow": null,
            "_model_module_version": "1.2.0",
            "_view_count": null,
            "flex_flow": null,
            "width": null,
            "min_width": null,
            "border": null,
            "align_items": null,
            "bottom": null,
            "_model_module": "@jupyter-widgets/base",
            "top": null,
            "grid_column": null,
            "overflow_y": null,
            "overflow_x": null,
            "grid_auto_flow": null,
            "grid_area": null,
            "grid_template_columns": null,
            "flex": null,
            "_model_name": "LayoutModel",
            "justify_items": null,
            "grid_row": null,
            "max_height": null,
            "align_content": null,
            "visibility": null,
            "align_self": null,
            "height": null,
            "min_height": null,
            "padding": null,
            "grid_auto_rows": null,
            "grid_gap": null,
            "max_width": null,
            "order": null,
            "_view_module_version": "1.2.0",
            "grid_template_areas": null,
            "object_position": null,
            "object_fit": null,
            "grid_auto_columns": null,
            "margin": null,
            "display": null,
            "left": null
          }
        },
        "88911981966947ea85f4b36a520722ee": {
          "model_module": "@jupyter-widgets/controls",
          "model_name": "LabelModel",
          "state": {
            "_view_name": "LabelView",
            "style": "IPY_MODEL_e640e6cc71bd461099b369d167c6aab4",
            "_dom_classes": [],
            "description": "",
            "_model_name": "LabelModel",
            "placeholder": "​",
            "_view_module": "@jupyter-widgets/controls",
            "_model_module_version": "1.5.0",
            "value": " 0.01MB of 0.01MB uploaded (0.00MB deduped)\r",
            "_view_count": null,
            "_view_module_version": "1.5.0",
            "description_tooltip": null,
            "_model_module": "@jupyter-widgets/controls",
            "layout": "IPY_MODEL_ce577f88092641d69b5f85239c73ae8a"
          }
        },
        "0d7e0fe7689546ca96a1e899a50a8b34": {
          "model_module": "@jupyter-widgets/controls",
          "model_name": "FloatProgressModel",
          "state": {
            "_view_name": "ProgressView",
            "style": "IPY_MODEL_206544701fb04f7e9eb76d2418877f6f",
            "_dom_classes": [],
            "description": "",
            "_model_name": "FloatProgressModel",
            "bar_style": "",
            "max": 1,
            "_view_module": "@jupyter-widgets/controls",
            "_model_module_version": "1.5.0",
            "value": 1,
            "_view_count": null,
            "_view_module_version": "1.5.0",
            "orientation": "horizontal",
            "min": 0,
            "description_tooltip": null,
            "_model_module": "@jupyter-widgets/controls",
            "layout": "IPY_MODEL_c4c7c46310d14acd9494ffd76cb98ff7"
          }
        },
        "e640e6cc71bd461099b369d167c6aab4": {
          "model_module": "@jupyter-widgets/controls",
          "model_name": "DescriptionStyleModel",
          "state": {
            "_view_name": "StyleView",
            "_model_name": "DescriptionStyleModel",
            "description_width": "",
            "_view_module": "@jupyter-widgets/base",
            "_model_module_version": "1.5.0",
            "_view_count": null,
            "_view_module_version": "1.2.0",
            "_model_module": "@jupyter-widgets/controls"
          }
        },
        "ce577f88092641d69b5f85239c73ae8a": {
          "model_module": "@jupyter-widgets/base",
          "model_name": "LayoutModel",
          "state": {
            "_view_name": "LayoutView",
            "grid_template_rows": null,
            "right": null,
            "justify_content": null,
            "_view_module": "@jupyter-widgets/base",
            "overflow": null,
            "_model_module_version": "1.2.0",
            "_view_count": null,
            "flex_flow": null,
            "width": null,
            "min_width": null,
            "border": null,
            "align_items": null,
            "bottom": null,
            "_model_module": "@jupyter-widgets/base",
            "top": null,
            "grid_column": null,
            "overflow_y": null,
            "overflow_x": null,
            "grid_auto_flow": null,
            "grid_area": null,
            "grid_template_columns": null,
            "flex": null,
            "_model_name": "LayoutModel",
            "justify_items": null,
            "grid_row": null,
            "max_height": null,
            "align_content": null,
            "visibility": null,
            "align_self": null,
            "height": null,
            "min_height": null,
            "padding": null,
            "grid_auto_rows": null,
            "grid_gap": null,
            "max_width": null,
            "order": null,
            "_view_module_version": "1.2.0",
            "grid_template_areas": null,
            "object_position": null,
            "object_fit": null,
            "grid_auto_columns": null,
            "margin": null,
            "display": null,
            "left": null
          }
        },
        "206544701fb04f7e9eb76d2418877f6f": {
          "model_module": "@jupyter-widgets/controls",
          "model_name": "ProgressStyleModel",
          "state": {
            "_view_name": "StyleView",
            "_model_name": "ProgressStyleModel",
            "description_width": "",
            "_view_module": "@jupyter-widgets/base",
            "_model_module_version": "1.5.0",
            "_view_count": null,
            "_view_module_version": "1.2.0",
            "bar_color": null,
            "_model_module": "@jupyter-widgets/controls"
          }
        },
        "c4c7c46310d14acd9494ffd76cb98ff7": {
          "model_module": "@jupyter-widgets/base",
          "model_name": "LayoutModel",
          "state": {
            "_view_name": "LayoutView",
            "grid_template_rows": null,
            "right": null,
            "justify_content": null,
            "_view_module": "@jupyter-widgets/base",
            "overflow": null,
            "_model_module_version": "1.2.0",
            "_view_count": null,
            "flex_flow": null,
            "width": null,
            "min_width": null,
            "border": null,
            "align_items": null,
            "bottom": null,
            "_model_module": "@jupyter-widgets/base",
            "top": null,
            "grid_column": null,
            "overflow_y": null,
            "overflow_x": null,
            "grid_auto_flow": null,
            "grid_area": null,
            "grid_template_columns": null,
            "flex": null,
            "_model_name": "LayoutModel",
            "justify_items": null,
            "grid_row": null,
            "max_height": null,
            "align_content": null,
            "visibility": null,
            "align_self": null,
            "height": null,
            "min_height": null,
            "padding": null,
            "grid_auto_rows": null,
            "grid_gap": null,
            "max_width": null,
            "order": null,
            "_view_module_version": "1.2.0",
            "grid_template_areas": null,
            "object_position": null,
            "object_fit": null,
            "grid_auto_columns": null,
            "margin": null,
            "display": null,
            "left": null
          }
        },
        "5c23b854f34d4b6eaceb9d6592337a0c": {
          "model_module": "@jupyter-widgets/controls",
          "model_name": "HBoxModel",
          "state": {
            "_view_name": "HBoxView",
            "_dom_classes": [],
            "_model_name": "HBoxModel",
            "_view_module": "@jupyter-widgets/controls",
            "_model_module_version": "1.5.0",
            "_view_count": null,
            "_view_module_version": "1.5.0",
            "box_style": "",
            "layout": "IPY_MODEL_3318d97a650f439dbc4dc047be21df95",
            "_model_module": "@jupyter-widgets/controls",
            "children": [
              "IPY_MODEL_85f12f40b2c24efdab48edc4e22df440",
              "IPY_MODEL_bbf9f288da774d6f95b87875f3b0eeb3"
            ]
          }
        },
        "3318d97a650f439dbc4dc047be21df95": {
          "model_module": "@jupyter-widgets/base",
          "model_name": "LayoutModel",
          "state": {
            "_view_name": "LayoutView",
            "grid_template_rows": null,
            "right": null,
            "justify_content": null,
            "_view_module": "@jupyter-widgets/base",
            "overflow": null,
            "_model_module_version": "1.2.0",
            "_view_count": null,
            "flex_flow": null,
            "width": null,
            "min_width": null,
            "border": null,
            "align_items": null,
            "bottom": null,
            "_model_module": "@jupyter-widgets/base",
            "top": null,
            "grid_column": null,
            "overflow_y": null,
            "overflow_x": null,
            "grid_auto_flow": null,
            "grid_area": null,
            "grid_template_columns": null,
            "flex": null,
            "_model_name": "LayoutModel",
            "justify_items": null,
            "grid_row": null,
            "max_height": null,
            "align_content": null,
            "visibility": null,
            "align_self": null,
            "height": null,
            "min_height": null,
            "padding": null,
            "grid_auto_rows": null,
            "grid_gap": null,
            "max_width": null,
            "order": null,
            "_view_module_version": "1.2.0",
            "grid_template_areas": null,
            "object_position": null,
            "object_fit": null,
            "grid_auto_columns": null,
            "margin": null,
            "display": null,
            "left": null
          }
        },
        "85f12f40b2c24efdab48edc4e22df440": {
          "model_module": "@jupyter-widgets/controls",
          "model_name": "FloatProgressModel",
          "state": {
            "_view_name": "ProgressView",
            "style": "IPY_MODEL_0993fc8b640c4aafa30420161eb4b848",
            "_dom_classes": [],
            "description": "",
            "_model_name": "FloatProgressModel",
            "bar_style": "info",
            "max": 1,
            "_view_module": "@jupyter-widgets/controls",
            "_model_module_version": "1.5.0",
            "value": 1,
            "_view_count": null,
            "_view_module_version": "1.5.0",
            "orientation": "horizontal",
            "min": 0,
            "description_tooltip": null,
            "_model_module": "@jupyter-widgets/controls",
            "layout": "IPY_MODEL_2bf7b69576584c0abc14dbc1fa840444"
          }
        },
        "bbf9f288da774d6f95b87875f3b0eeb3": {
          "model_module": "@jupyter-widgets/controls",
          "model_name": "HTMLModel",
          "state": {
            "_view_name": "HTMLView",
            "style": "IPY_MODEL_be793e137dcf45699fd6aa3d8db745d3",
            "_dom_classes": [],
            "description": "",
            "_model_name": "HTMLModel",
            "placeholder": "​",
            "_view_module": "@jupyter-widgets/controls",
            "_model_module_version": "1.5.0",
            "value": " 124/? [00:18&lt;00:00,  7.56 tables/s]",
            "_view_count": null,
            "_view_module_version": "1.5.0",
            "description_tooltip": null,
            "_model_module": "@jupyter-widgets/controls",
            "layout": "IPY_MODEL_0f0369a4fd00417083ed810d4d2244b5"
          }
        },
        "0993fc8b640c4aafa30420161eb4b848": {
          "model_module": "@jupyter-widgets/controls",
          "model_name": "ProgressStyleModel",
          "state": {
            "_view_name": "StyleView",
            "_model_name": "ProgressStyleModel",
            "description_width": "initial",
            "_view_module": "@jupyter-widgets/base",
            "_model_module_version": "1.5.0",
            "_view_count": null,
            "_view_module_version": "1.2.0",
            "bar_color": null,
            "_model_module": "@jupyter-widgets/controls"
          }
        },
        "2bf7b69576584c0abc14dbc1fa840444": {
          "model_module": "@jupyter-widgets/base",
          "model_name": "LayoutModel",
          "state": {
            "_view_name": "LayoutView",
            "grid_template_rows": null,
            "right": null,
            "justify_content": null,
            "_view_module": "@jupyter-widgets/base",
            "overflow": null,
            "_model_module_version": "1.2.0",
            "_view_count": null,
            "flex_flow": null,
            "width": null,
            "min_width": null,
            "border": null,
            "align_items": null,
            "bottom": null,
            "_model_module": "@jupyter-widgets/base",
            "top": null,
            "grid_column": null,
            "overflow_y": null,
            "overflow_x": null,
            "grid_auto_flow": null,
            "grid_area": null,
            "grid_template_columns": null,
            "flex": null,
            "_model_name": "LayoutModel",
            "justify_items": null,
            "grid_row": null,
            "max_height": null,
            "align_content": null,
            "visibility": null,
            "align_self": null,
            "height": null,
            "min_height": null,
            "padding": null,
            "grid_auto_rows": null,
            "grid_gap": null,
            "max_width": null,
            "order": null,
            "_view_module_version": "1.2.0",
            "grid_template_areas": null,
            "object_position": null,
            "object_fit": null,
            "grid_auto_columns": null,
            "margin": null,
            "display": null,
            "left": null
          }
        },
        "be793e137dcf45699fd6aa3d8db745d3": {
          "model_module": "@jupyter-widgets/controls",
          "model_name": "DescriptionStyleModel",
          "state": {
            "_view_name": "StyleView",
            "_model_name": "DescriptionStyleModel",
            "description_width": "",
            "_view_module": "@jupyter-widgets/base",
            "_model_module_version": "1.5.0",
            "_view_count": null,
            "_view_module_version": "1.2.0",
            "_model_module": "@jupyter-widgets/controls"
          }
        },
        "0f0369a4fd00417083ed810d4d2244b5": {
          "model_module": "@jupyter-widgets/base",
          "model_name": "LayoutModel",
          "state": {
            "_view_name": "LayoutView",
            "grid_template_rows": null,
            "right": null,
            "justify_content": null,
            "_view_module": "@jupyter-widgets/base",
            "overflow": null,
            "_model_module_version": "1.2.0",
            "_view_count": null,
            "flex_flow": null,
            "width": null,
            "min_width": null,
            "border": null,
            "align_items": null,
            "bottom": null,
            "_model_module": "@jupyter-widgets/base",
            "top": null,
            "grid_column": null,
            "overflow_y": null,
            "overflow_x": null,
            "grid_auto_flow": null,
            "grid_area": null,
            "grid_template_columns": null,
            "flex": null,
            "_model_name": "LayoutModel",
            "justify_items": null,
            "grid_row": null,
            "max_height": null,
            "align_content": null,
            "visibility": null,
            "align_self": null,
            "height": null,
            "min_height": null,
            "padding": null,
            "grid_auto_rows": null,
            "grid_gap": null,
            "max_width": null,
            "order": null,
            "_view_module_version": "1.2.0",
            "grid_template_areas": null,
            "object_position": null,
            "object_fit": null,
            "grid_auto_columns": null,
            "margin": null,
            "display": null,
            "left": null
          }
        },
        "6077e5967c4c4670a8a258f9f07d7e34": {
          "model_module": "@jupyter-widgets/controls",
          "model_name": "HBoxModel",
          "state": {
            "_view_name": "HBoxView",
            "_dom_classes": [],
            "_model_name": "HBoxModel",
            "_view_module": "@jupyter-widgets/controls",
            "_model_module_version": "1.5.0",
            "_view_count": null,
            "_view_module_version": "1.5.0",
            "box_style": "",
            "layout": "IPY_MODEL_b83ff09efda248f3aa5b0f982b127a8f",
            "_model_module": "@jupyter-widgets/controls",
            "children": [
              "IPY_MODEL_5a4606e7b24648f89a483d9c232be420",
              "IPY_MODEL_fc642e8556844201951f7d3a80409e5b"
            ]
          }
        },
        "b83ff09efda248f3aa5b0f982b127a8f": {
          "model_module": "@jupyter-widgets/base",
          "model_name": "LayoutModel",
          "state": {
            "_view_name": "LayoutView",
            "grid_template_rows": null,
            "right": null,
            "justify_content": null,
            "_view_module": "@jupyter-widgets/base",
            "overflow": null,
            "_model_module_version": "1.2.0",
            "_view_count": null,
            "flex_flow": null,
            "width": null,
            "min_width": null,
            "border": null,
            "align_items": null,
            "bottom": null,
            "_model_module": "@jupyter-widgets/base",
            "top": null,
            "grid_column": null,
            "overflow_y": null,
            "overflow_x": null,
            "grid_auto_flow": null,
            "grid_area": null,
            "grid_template_columns": null,
            "flex": null,
            "_model_name": "LayoutModel",
            "justify_items": null,
            "grid_row": null,
            "max_height": null,
            "align_content": null,
            "visibility": null,
            "align_self": null,
            "height": null,
            "min_height": null,
            "padding": null,
            "grid_auto_rows": null,
            "grid_gap": null,
            "max_width": null,
            "order": null,
            "_view_module_version": "1.2.0",
            "grid_template_areas": null,
            "object_position": null,
            "object_fit": null,
            "grid_auto_columns": null,
            "margin": null,
            "display": null,
            "left": null
          }
        },
        "5a4606e7b24648f89a483d9c232be420": {
          "model_module": "@jupyter-widgets/controls",
          "model_name": "FloatProgressModel",
          "state": {
            "_view_name": "ProgressView",
            "style": "IPY_MODEL_85677bf919aa42e196993ecdc6c682c1",
            "_dom_classes": [],
            "description": "",
            "_model_name": "FloatProgressModel",
            "bar_style": "info",
            "max": 1,
            "_view_module": "@jupyter-widgets/controls",
            "_model_module_version": "1.5.0",
            "value": 1,
            "_view_count": null,
            "_view_module_version": "1.5.0",
            "orientation": "horizontal",
            "min": 0,
            "description_tooltip": null,
            "_model_module": "@jupyter-widgets/controls",
            "layout": "IPY_MODEL_802e7189e5924a7f9ff8475da4445402"
          }
        },
        "fc642e8556844201951f7d3a80409e5b": {
          "model_module": "@jupyter-widgets/controls",
          "model_name": "HTMLModel",
          "state": {
            "_view_name": "HTMLView",
            "style": "IPY_MODEL_abd6a5e4ee50460f9686863a951cdee9",
            "_dom_classes": [],
            "description": "",
            "_model_name": "HTMLModel",
            "placeholder": "​",
            "_view_module": "@jupyter-widgets/controls",
            "_model_module_version": "1.5.0",
            "value": " 14/? [00:02&lt;00:00,  7.50 tables/s]",
            "_view_count": null,
            "_view_module_version": "1.5.0",
            "description_tooltip": null,
            "_model_module": "@jupyter-widgets/controls",
            "layout": "IPY_MODEL_1711631c305e47f2bdf8ad9409036959"
          }
        },
        "85677bf919aa42e196993ecdc6c682c1": {
          "model_module": "@jupyter-widgets/controls",
          "model_name": "ProgressStyleModel",
          "state": {
            "_view_name": "StyleView",
            "_model_name": "ProgressStyleModel",
            "description_width": "initial",
            "_view_module": "@jupyter-widgets/base",
            "_model_module_version": "1.5.0",
            "_view_count": null,
            "_view_module_version": "1.2.0",
            "bar_color": null,
            "_model_module": "@jupyter-widgets/controls"
          }
        },
        "802e7189e5924a7f9ff8475da4445402": {
          "model_module": "@jupyter-widgets/base",
          "model_name": "LayoutModel",
          "state": {
            "_view_name": "LayoutView",
            "grid_template_rows": null,
            "right": null,
            "justify_content": null,
            "_view_module": "@jupyter-widgets/base",
            "overflow": null,
            "_model_module_version": "1.2.0",
            "_view_count": null,
            "flex_flow": null,
            "width": null,
            "min_width": null,
            "border": null,
            "align_items": null,
            "bottom": null,
            "_model_module": "@jupyter-widgets/base",
            "top": null,
            "grid_column": null,
            "overflow_y": null,
            "overflow_x": null,
            "grid_auto_flow": null,
            "grid_area": null,
            "grid_template_columns": null,
            "flex": null,
            "_model_name": "LayoutModel",
            "justify_items": null,
            "grid_row": null,
            "max_height": null,
            "align_content": null,
            "visibility": null,
            "align_self": null,
            "height": null,
            "min_height": null,
            "padding": null,
            "grid_auto_rows": null,
            "grid_gap": null,
            "max_width": null,
            "order": null,
            "_view_module_version": "1.2.0",
            "grid_template_areas": null,
            "object_position": null,
            "object_fit": null,
            "grid_auto_columns": null,
            "margin": null,
            "display": null,
            "left": null
          }
        },
        "abd6a5e4ee50460f9686863a951cdee9": {
          "model_module": "@jupyter-widgets/controls",
          "model_name": "DescriptionStyleModel",
          "state": {
            "_view_name": "StyleView",
            "_model_name": "DescriptionStyleModel",
            "description_width": "",
            "_view_module": "@jupyter-widgets/base",
            "_model_module_version": "1.5.0",
            "_view_count": null,
            "_view_module_version": "1.2.0",
            "_model_module": "@jupyter-widgets/controls"
          }
        },
        "1711631c305e47f2bdf8ad9409036959": {
          "model_module": "@jupyter-widgets/base",
          "model_name": "LayoutModel",
          "state": {
            "_view_name": "LayoutView",
            "grid_template_rows": null,
            "right": null,
            "justify_content": null,
            "_view_module": "@jupyter-widgets/base",
            "overflow": null,
            "_model_module_version": "1.2.0",
            "_view_count": null,
            "flex_flow": null,
            "width": null,
            "min_width": null,
            "border": null,
            "align_items": null,
            "bottom": null,
            "_model_module": "@jupyter-widgets/base",
            "top": null,
            "grid_column": null,
            "overflow_y": null,
            "overflow_x": null,
            "grid_auto_flow": null,
            "grid_area": null,
            "grid_template_columns": null,
            "flex": null,
            "_model_name": "LayoutModel",
            "justify_items": null,
            "grid_row": null,
            "max_height": null,
            "align_content": null,
            "visibility": null,
            "align_self": null,
            "height": null,
            "min_height": null,
            "padding": null,
            "grid_auto_rows": null,
            "grid_gap": null,
            "max_width": null,
            "order": null,
            "_view_module_version": "1.2.0",
            "grid_template_areas": null,
            "object_position": null,
            "object_fit": null,
            "grid_auto_columns": null,
            "margin": null,
            "display": null,
            "left": null
          }
        },
        "35a59f08cbb742b786b45e447e019da0": {
          "model_module": "@jupyter-widgets/controls",
          "model_name": "HBoxModel",
          "state": {
            "_view_name": "HBoxView",
            "_dom_classes": [],
            "_model_name": "HBoxModel",
            "_view_module": "@jupyter-widgets/controls",
            "_model_module_version": "1.5.0",
            "_view_count": null,
            "_view_module_version": "1.5.0",
            "box_style": "",
            "layout": "IPY_MODEL_c726b0c486f64414a8f76b954f5aab64",
            "_model_module": "@jupyter-widgets/controls",
            "children": [
              "IPY_MODEL_e9e7dde80ed047919311714178406d09",
              "IPY_MODEL_4a39b73e47cb4e1e96155da8ea2628ab"
            ]
          }
        },
        "c726b0c486f64414a8f76b954f5aab64": {
          "model_module": "@jupyter-widgets/base",
          "model_name": "LayoutModel",
          "state": {
            "_view_name": "LayoutView",
            "grid_template_rows": null,
            "right": null,
            "justify_content": null,
            "_view_module": "@jupyter-widgets/base",
            "overflow": null,
            "_model_module_version": "1.2.0",
            "_view_count": null,
            "flex_flow": null,
            "width": null,
            "min_width": null,
            "border": null,
            "align_items": null,
            "bottom": null,
            "_model_module": "@jupyter-widgets/base",
            "top": null,
            "grid_column": null,
            "overflow_y": null,
            "overflow_x": null,
            "grid_auto_flow": null,
            "grid_area": null,
            "grid_template_columns": null,
            "flex": null,
            "_model_name": "LayoutModel",
            "justify_items": null,
            "grid_row": null,
            "max_height": null,
            "align_content": null,
            "visibility": null,
            "align_self": null,
            "height": null,
            "min_height": null,
            "padding": null,
            "grid_auto_rows": null,
            "grid_gap": null,
            "max_width": null,
            "order": null,
            "_view_module_version": "1.2.0",
            "grid_template_areas": null,
            "object_position": null,
            "object_fit": null,
            "grid_auto_columns": null,
            "margin": null,
            "display": null,
            "left": null
          }
        },
        "e9e7dde80ed047919311714178406d09": {
          "model_module": "@jupyter-widgets/controls",
          "model_name": "FloatProgressModel",
          "state": {
            "_view_name": "ProgressView",
            "style": "IPY_MODEL_a4a6c88a44d3469f9ae44acaae1ca772",
            "_dom_classes": [],
            "description": "Running epoch-0:   0%",
            "_model_name": "FloatProgressModel",
            "bar_style": "",
            "max": 4834,
            "_view_module": "@jupyter-widgets/controls",
            "_model_module_version": "1.5.0",
            "value": 0,
            "_view_count": null,
            "_view_module_version": "1.5.0",
            "orientation": "horizontal",
            "min": 0,
            "description_tooltip": null,
            "_model_module": "@jupyter-widgets/controls",
            "layout": "IPY_MODEL_01444ded1a9148daab24a0cd10876557"
          }
        },
        "4a39b73e47cb4e1e96155da8ea2628ab": {
          "model_module": "@jupyter-widgets/controls",
          "model_name": "HTMLModel",
          "state": {
            "_view_name": "HTMLView",
            "style": "IPY_MODEL_1fd22d4513f04f40b1d8945d959c9f2c",
            "_dom_classes": [],
            "description": "",
            "_model_name": "HTMLModel",
            "placeholder": "​",
            "_view_module": "@jupyter-widgets/controls",
            "_model_module_version": "1.5.0",
            "value": " 0/4834 [00:00&lt;?, ?it/s]",
            "_view_count": null,
            "_view_module_version": "1.5.0",
            "description_tooltip": null,
            "_model_module": "@jupyter-widgets/controls",
            "layout": "IPY_MODEL_ad7ca56ca73949a1868cecac689bdf72"
          }
        },
        "a4a6c88a44d3469f9ae44acaae1ca772": {
          "model_module": "@jupyter-widgets/controls",
          "model_name": "ProgressStyleModel",
          "state": {
            "_view_name": "StyleView",
            "_model_name": "ProgressStyleModel",
            "description_width": "initial",
            "_view_module": "@jupyter-widgets/base",
            "_model_module_version": "1.5.0",
            "_view_count": null,
            "_view_module_version": "1.2.0",
            "bar_color": null,
            "_model_module": "@jupyter-widgets/controls"
          }
        },
        "01444ded1a9148daab24a0cd10876557": {
          "model_module": "@jupyter-widgets/base",
          "model_name": "LayoutModel",
          "state": {
            "_view_name": "LayoutView",
            "grid_template_rows": null,
            "right": null,
            "justify_content": null,
            "_view_module": "@jupyter-widgets/base",
            "overflow": null,
            "_model_module_version": "1.2.0",
            "_view_count": null,
            "flex_flow": null,
            "width": null,
            "min_width": null,
            "border": null,
            "align_items": null,
            "bottom": null,
            "_model_module": "@jupyter-widgets/base",
            "top": null,
            "grid_column": null,
            "overflow_y": null,
            "overflow_x": null,
            "grid_auto_flow": null,
            "grid_area": null,
            "grid_template_columns": null,
            "flex": null,
            "_model_name": "LayoutModel",
            "justify_items": null,
            "grid_row": null,
            "max_height": null,
            "align_content": null,
            "visibility": null,
            "align_self": null,
            "height": null,
            "min_height": null,
            "padding": null,
            "grid_auto_rows": null,
            "grid_gap": null,
            "max_width": null,
            "order": null,
            "_view_module_version": "1.2.0",
            "grid_template_areas": null,
            "object_position": null,
            "object_fit": null,
            "grid_auto_columns": null,
            "margin": null,
            "display": null,
            "left": null
          }
        },
        "1fd22d4513f04f40b1d8945d959c9f2c": {
          "model_module": "@jupyter-widgets/controls",
          "model_name": "DescriptionStyleModel",
          "state": {
            "_view_name": "StyleView",
            "_model_name": "DescriptionStyleModel",
            "description_width": "",
            "_view_module": "@jupyter-widgets/base",
            "_model_module_version": "1.5.0",
            "_view_count": null,
            "_view_module_version": "1.2.0",
            "_model_module": "@jupyter-widgets/controls"
          }
        },
        "ad7ca56ca73949a1868cecac689bdf72": {
          "model_module": "@jupyter-widgets/base",
          "model_name": "LayoutModel",
          "state": {
            "_view_name": "LayoutView",
            "grid_template_rows": null,
            "right": null,
            "justify_content": null,
            "_view_module": "@jupyter-widgets/base",
            "overflow": null,
            "_model_module_version": "1.2.0",
            "_view_count": null,
            "flex_flow": null,
            "width": null,
            "min_width": null,
            "border": null,
            "align_items": null,
            "bottom": null,
            "_model_module": "@jupyter-widgets/base",
            "top": null,
            "grid_column": null,
            "overflow_y": null,
            "overflow_x": null,
            "grid_auto_flow": null,
            "grid_area": null,
            "grid_template_columns": null,
            "flex": null,
            "_model_name": "LayoutModel",
            "justify_items": null,
            "grid_row": null,
            "max_height": null,
            "align_content": null,
            "visibility": null,
            "align_self": null,
            "height": null,
            "min_height": null,
            "padding": null,
            "grid_auto_rows": null,
            "grid_gap": null,
            "max_width": null,
            "order": null,
            "_view_module_version": "1.2.0",
            "grid_template_areas": null,
            "object_position": null,
            "object_fit": null,
            "grid_auto_columns": null,
            "margin": null,
            "display": null,
            "left": null
          }
        }
      }
    }
  },
  "cells": [
    {
      "cell_type": "markdown",
      "metadata": {
        "id": "NQ8IeG8dAf-I"
      },
      "source": [
        "# Train code search sentence embeddings"
      ]
    },
    {
      "cell_type": "code",
      "metadata": {
        "colab": {
          "base_uri": "https://localhost:8080/"
        },
        "id": "kEa1QqUkCLcA",
        "outputId": "bb6d7cb7-4bdf-434f-e786-090030f33a52"
      },
      "source": [
        "!pip install --upgrade -q jax jaxlib"
      ],
      "execution_count": 1,
      "outputs": [
        {
          "output_type": "stream",
          "text": [
            "\u001b[K     |████████████████████████████████| 686kB 5.4MB/s \n",
            "\u001b[K     |████████████████████████████████| 46.2MB 125kB/s \n",
            "\u001b[?25h  Building wheel for jax (setup.py) ... \u001b[?25l\u001b[?25hdone\n"
          ],
          "name": "stdout"
        }
      ]
    },
    {
      "cell_type": "code",
      "metadata": {
        "colab": {
          "base_uri": "https://localhost:8080/"
        },
        "id": "FIHVaIKoKDIe",
        "outputId": "91cf53a6-a954-4ed4-f9d5-ff6c8f739d0d"
      },
      "source": [
        "!test -f train_code_search_net.py || wget -q https://raw.githubusercontent.com/nreimers/flax-sentence-embeddings/main/code-search-net/train_code_search_net.py .\n",
        "!test -f requirements.txt || wget -q https://raw.githubusercontent.com/nreimers/flax-sentence-embeddings/main/code-search-net/requirements.txt .\n",
        "!test -d trainer || mkdir trainer/\n",
        "!test -d trainer/loss || mkdir trainer/loss/\n",
        "!test -f trainer/loss/custom.py || wget -q https://raw.githubusercontent.com/nreimers/flax-sentence-embeddings/049d30a44f83a266fbc6f71e22e285e4d0a8d30b/trainer/loss/custom.py .\n",
        "!test -f custom.py && mv custom.py ./trainer/loss/custom.py\n",
        "!test -f trainer/loss/basic.py || wget -q https://raw.githubusercontent.com/nreimers/flax-sentence-embeddings/049d30a44f83a266fbc6f71e22e285e4d0a8d30b/trainer/loss/basic.py .\n",
        "!test -f basic.py && mv basic.py ./trainer/loss/basic.py\n",
        "!test -d trainer/utils/ || mkdir trainer/utils/\n",
        "!test -f trainer/utils/ops.py || wget -q https://raw.githubusercontent.com/nreimers/flax-sentence-embeddings/049d30a44f83a266fbc6f71e22e285e4d0a8d30b/trainer/utils/ops.py .\n",
        "!test -f ops.py && mv ops.py ./trainer/utils/ops.py\n",
        "!pip install -qr requirements.txt"
      ],
      "execution_count": 2,
      "outputs": [
        {
          "output_type": "stream",
          "text": [
            "\u001b[K     |████████████████████████████████| 122kB 5.3MB/s \n",
            "\u001b[K     |████████████████████████████████| 184kB 27.6MB/s \n",
            "\u001b[K     |████████████████████████████████| 2.5MB 32.1MB/s \n",
            "\u001b[K     |████████████████████████████████| 245kB 41.3MB/s \n",
            "\u001b[K     |████████████████████████████████| 1.8MB 38.9MB/s \n",
            "\u001b[K     |████████████████████████████████| 61kB 6.4MB/s \n",
            "\u001b[K     |████████████████████████████████| 3.3MB 23.7MB/s \n",
            "\u001b[K     |████████████████████████████████| 901kB 60.2MB/s \n",
            "\u001b[K     |████████████████████████████████| 122kB 54.7MB/s \n",
            "\u001b[K     |████████████████████████████████| 245kB 46.3MB/s \n",
            "\u001b[K     |████████████████████████████████| 133kB 50.9MB/s \n",
            "\u001b[K     |████████████████████████████████| 102kB 8.1MB/s \n",
            "\u001b[K     |████████████████████████████████| 174kB 46.7MB/s \n",
            "\u001b[K     |████████████████████████████████| 71kB 9.4MB/s \n",
            "\u001b[?25h  Building wheel for pathtools (setup.py) ... \u001b[?25l\u001b[?25hdone\n",
            "  Building wheel for subprocess32 (setup.py) ... \u001b[?25l\u001b[?25hdone\n"
          ],
          "name": "stdout"
        }
      ]
    },
    {
      "cell_type": "code",
      "metadata": {
        "id": "212rjOCIq4Sq"
      },
      "source": [
        "# requirements\n",
        "from sklearn.model_selection import train_test_split\n",
        "import gzip\n",
        "from tqdm import tqdm\n",
        "import numpy as np\n",
        "import csv\n",
        "\n",
        "# for training script\n",
        "from dataclasses import dataclass, field, asdict, replace\n",
        "from functools import partial\n",
        "from typing import Callable, List, Union\n",
        "\n",
        "import jax\n",
        "import jax.numpy as jnp\n",
        "import optax\n",
        "from flax import jax_utils, struct, traverse_util\n",
        "from flax.training import train_state\n",
        "from flax.serialization import to_bytes, from_bytes\n",
        "from flax.training.common_utils import shard\n",
        "from tqdm.auto import tqdm\n",
        "from transformers import PreTrainedTokenizer, PreTrainedTokenizerFast\n",
        "from trainer.loss.custom import multiple_negatives_ranking_loss\n",
        "\n",
        "import wandb\n",
        "import json\n",
        "import os\n",
        "\n",
        "from datasets import load_dataset, DatasetDict\n",
        "from transformers import AutoTokenizer, FlaxAutoModel"
      ],
      "execution_count": 13,
      "outputs": []
    },
    {
      "cell_type": "code",
      "metadata": {
        "colab": {
          "base_uri": "https://localhost:8080/"
        },
        "id": "Qy7pnaLUs0sP",
        "outputId": "2c81e86f-fc22-4e39-f520-3dd14000e6a5"
      },
      "source": [
        "#@title TPU config\n",
        "USE_TPU = True  #@param {type:\"boolean\"}\n",
        "# DEBUG = True  #@param {type:\"boolean\"}\n",
        "\n",
        "# if DEBUG:\n",
        "#   os.environ['XLA_HLO_DEBUG']=\"1\"\n",
        "\n",
        "if USE_TPU:\n",
        "  # Google Colab \"TPU\" runtimes are configured in \"2VM mode\", meaning that JAX\n",
        "  # cannot see the TPUs because they're not directly attached. Instead we need to\n",
        "  # setup JAX to communicate with a second machine that has the TPUs attached.\n",
        "  if 'google.colab' in str(get_ipython()) and 'COLAB_TPU_ADDR' in os.environ:\n",
        "    import jax.tools.colab_tpu\n",
        "    jax.tools.colab_tpu.setup_tpu()\n",
        "    print('Connected to TPU.')\n",
        "    print('TPU address is: {}'.format(os.environ['COLAB_TPU_ADDR']))\n",
        "    print('Using {} devices:'.format(jax.device_count()))\n",
        "    for d in jax.devices():\n",
        "      print('\\t{}'.format(d))\n",
        "    print('XRT TPU config: {}'.format(os.environ['XRT_TPU_CONFIG']))\n",
        "\n",
        "    # get the latest JAX and jaxlib\n",
        "    # !pip install --upgrade -q jax jaxlib\n",
        "\n",
        "    # Colab runtime set to TPU acces\n",
        "    # import requests\n",
        "    # import os\n",
        "    # if 'TPU_DRIVER_MODE' not in globals():\n",
        "    #   print('setting TPU driver mode.')\n",
        "    #   url = 'http://' + os.environ['COLAB_TPU_ADDR'].split(':')[0] + ':8475/requestversion/tpu_driver_nightly'\n",
        "    #   resp = requests.post(url)\n",
        "    #   TPU_DRIVER_MODE = 1\n",
        "\n",
        "    # TPU driver as backend for JAX\n",
        "    # from jax.config import config\n",
        "    # config.FLAGS.jax_xla_backend = \"tpu_driver\"\n",
        "    # config.FLAGS.jax_backend_target = \"grpc://\" + os.environ['COLAB_TPU_ADDR']\n",
        "    # print(config.FLAGS.jax_backend_target)\n",
        "    # Prevent GPU/TPU warning.\n",
        "    # import jax; jax.config.update('jax_platform_name', 'cpu')\n",
        "  else:\n",
        "    print('No TPU detected. Can be changed under \"Runtime/Change runtime type\".')"
      ],
      "execution_count": 4,
      "outputs": [
        {
          "output_type": "stream",
          "text": [
            "INFO:absl:Unable to initialize backend 'gpu': Not found: Could not find registered platform with name: \"cuda\". Available platform names are: Interpreter Host\n",
            "INFO:absl:Unable to initialize backend 'tpu': Invalid argument: TpuPlatform is not available.\n"
          ],
          "name": "stderr"
        },
        {
          "output_type": "stream",
          "text": [
            "Connected to TPU.\n",
            "TPU address is: 10.70.228.82:8470\n",
            "Using 8 devices:\n",
            "\tTPU_0(host=0,(0,0,0,0))\n",
            "\tTPU_1(host=0,(0,0,0,1))\n",
            "\tTPU_2(host=0,(1,0,0,0))\n",
            "\tTPU_3(host=0,(1,0,0,1))\n",
            "\tTPU_4(host=0,(0,1,0,0))\n",
            "\tTPU_5(host=0,(0,1,0,1))\n",
            "\tTPU_6(host=0,(1,1,0,0))\n",
            "\tTPU_7(host=0,(1,1,0,1))\n",
            "XRT TPU config: tpu_worker;0;10.70.228.82:8470\n"
          ],
          "name": "stdout"
        }
      ]
    },
    {
      "cell_type": "code",
      "metadata": {
        "id": "TSplzBhLSXQh"
      },
      "source": [
        "!test -f codesearchnet.jsonl.gz || wget -q https://public.ukp.informatik.tu-darmstadt.de/reimers/sentence-transformers/datasets/paraphrases/codesearchnet.jsonl.gz .\n",
        "# !gzip -dk codesearchnet.jsonl.gz"
      ],
      "execution_count": 5,
      "outputs": []
    },
    {
      "cell_type": "code",
      "metadata": {
        "colab": {
          "base_uri": "https://localhost:8080/"
        },
        "id": "dyjTzgVkSxcP",
        "outputId": "6ca2784a-73e7-43b1-c92b-5cf5ac9a0eb6"
      },
      "source": [
        "def load_jsonl_dataset(file_name):\n",
        "  with gzip.open(file_name, \"rb\") as f:\n",
        "    dataset = [json.loads(jline) for jline in f.read().splitlines()]\n",
        "    return dataset\n",
        "\n",
        "X = load_jsonl_dataset('./codesearchnet.jsonl.gz')\n",
        "\n",
        "X_train, X_val = train_test_split(X, test_size=0.1, random_state=42)\n",
        "print(\"Splitted data:\\n\\t{:,} samples for train\\n\\t{:,}; samples for validation.\".format(len(X_train), len(X_val)))"
      ],
      "execution_count": 6,
      "outputs": [
        {
          "output_type": "stream",
          "text": [
            "Splitted data:\n",
            "\t1,237,560 samples for train\n",
            "\t137,507; samples for validation.\n"
          ],
          "name": "stdout"
        }
      ]
    },
    {
      "cell_type": "code",
      "metadata": {
        "colab": {
          "base_uri": "https://localhost:8080/"
        },
        "id": "S3ll_10QTkll",
        "outputId": "06fbc16f-9c33-4f0b-e4c9-512621de8412"
      },
      "source": [
        "idx = np.random.randint(len(X_train))\n",
        "print('docstring:')\n",
        "print('==========\\n')\n",
        "print(X_train[idx][0], '\\n')\n",
        "\n",
        "print('function:')\n",
        "print('=========\\n')\n",
        "print(X_train[idx][1])"
      ],
      "execution_count": 7,
      "outputs": [
        {
          "output_type": "stream",
          "text": [
            "docstring:\n",
            "==========\n",
            "\n",
            "// SetInstanceId sets the InstanceId field's value. \n",
            "\n",
            "function:\n",
            "=========\n",
            "\n",
            "func (s *UpdateInstanceCustomHealthStatusInput) SetInstanceId(v string) *UpdateInstanceCustomHealthStatusInput {\n",
            "\ts.InstanceId = &v\n",
            "\treturn s\n",
            "}\n"
          ],
          "name": "stdout"
        }
      ]
    },
    {
      "cell_type": "code",
      "metadata": {
        "id": "uOrnCVPUTj3r"
      },
      "source": [
        "# with open('tr.jsonl', 'w') as outfile:\n",
        "#   for j in tqdm(X_train):\n",
        "#       json.dump({'doc': j[0], 'function': j[1]}, outfile)\n",
        "#       outfile.write('\\n')\n",
        "\n",
        "# with open('val.jsonl', 'w') as outfile:\n",
        "#   for j in tqdm(X_val):\n",
        "#       json.dump({'doc': j[0], 'function': j[1]}, outfile)\n",
        "#       outfile.write('\\n')"
      ],
      "execution_count": 8,
      "outputs": []
    },
    {
      "cell_type": "code",
      "metadata": {
        "colab": {
          "base_uri": "https://localhost:8080/",
          "height": 115,
          "referenced_widgets": [
            "a70ea434abb24f9782b14583d4aa6b9e",
            "73302907bd7b4787b22d299fcbd85bb8",
            "35427c77f0c24b9fb7544bdd2a1df1a5",
            "c335ef7db978456d88f25aa0fabb5c65",
            "5ca39d7fcdaa4a179d59b487f56acef8",
            "b57259fb7c6f46d983d6eafa2056a969",
            "097df61f24124b44b366ec8ce7d859d4",
            "2de689c700454e9fa6a79fa0e6b588d0",
            "88a8e6aaa32841929f986612419ca7a3",
            "84a08391d1834a31a3235dfcf421833f",
            "9bdc2dd918b14486917c7980d8d5f33c",
            "490ac1b4d4bb42a1a7f962551caa7e92",
            "d1faf12fef8b4008bd8bfcf635225802",
            "16944acda97649be843074b0f168c111",
            "982126fde55b42f4b74d9f644a98b834",
            "cafdf429e2da49cfb2718baa548ae04d"
          ]
        },
        "id": "-gC5D6stckkH",
        "outputId": "114ff989-0e33-4c1e-92a0-8452ba8bae2b"
      },
      "source": [
        "# write csv dataset\n",
        "\n",
        "header = ['docstring', 'code']\n",
        "\n",
        "with open('val.csv', 'w', encoding='UTF8') as f:\n",
        "    writer = csv.writer(f)  # write the header\n",
        "    writer.writerow(header)\n",
        "    for j in tqdm(X_val):\n",
        "      writer.writerow(j)  # write the data\n",
        "\n",
        "with open('tr.csv', 'w', encoding='UTF8') as f:\n",
        "    writer = csv.writer(f)  # write the header\n",
        "    writer.writerow(header)\n",
        "    for j in tqdm(X_train):\n",
        "      writer.writerow(j)  # write the data"
      ],
      "execution_count": 9,
      "outputs": [
        {
          "output_type": "display_data",
          "data": {
            "application/vnd.jupyter.widget-view+json": {
              "model_id": "a70ea434abb24f9782b14583d4aa6b9e",
              "version_minor": 0,
              "version_major": 2
            },
            "text/plain": [
              "HBox(children=(FloatProgress(value=0.0, max=137507.0), HTML(value='')))"
            ]
          },
          "metadata": {
            "tags": []
          }
        },
        {
          "output_type": "stream",
          "text": [
            "\n"
          ],
          "name": "stdout"
        },
        {
          "output_type": "display_data",
          "data": {
            "application/vnd.jupyter.widget-view+json": {
              "model_id": "88a8e6aaa32841929f986612419ca7a3",
              "version_minor": 0,
              "version_major": 2
            },
            "text/plain": [
              "HBox(children=(FloatProgress(value=0.0, max=1237560.0), HTML(value='')))"
            ]
          },
          "metadata": {
            "tags": []
          }
        },
        {
          "output_type": "stream",
          "text": [
            "\n"
          ],
          "name": "stdout"
        }
      ]
    },
    {
      "cell_type": "code",
      "metadata": {
        "id": "RPGhl53-WpJS"
      },
      "source": [
        "# from datasets import load_dataset\n",
        "# dataset_test = load_dataset(\"csv\", data_files='tr.csv', split=\"train\")\n",
        "# dataset_test[0]"
      ],
      "execution_count": 10,
      "outputs": []
    },
    {
      "cell_type": "code",
      "metadata": {
        "id": "HSPdyXx4lvB_"
      },
      "source": [
        "@dataclass\n",
        "class TrainingArgs:\n",
        "    model_id: str = \"microsoft/codebert-base\"\n",
        "    max_epochs: int = 2\n",
        "    batch_size_per_device: int = 32\n",
        "    seed: int = 42\n",
        "    lr: float = 2e-5\n",
        "    init_lr: float = 1e-5\n",
        "    warmup_steps: int = 2000\n",
        "    weight_decay: float = 1e-3\n",
        "\n",
        "    input1_maxlen: int = 128\n",
        "    input2_maxlen: int = 128\n",
        "    \n",
        "    logging_steps: int = 20\n",
        "    save_dir: str = \"checkpoints\"\n",
        "\n",
        "    tr_data_files: List[str] = field(\n",
        "        default_factory=lambda: [\n",
        "            \"tr.csv\",\n",
        "        ]\n",
        "    )\n",
        "        \n",
        "    val_data_files: List[str] = field(\n",
        "        default_factory=lambda: [\n",
        "            \"val.csv\",\n",
        "        ]\n",
        "    )\n",
        "\n",
        "    def __post_init__(self):\n",
        "        self.batch_size = self.batch_size_per_device * jax.device_count()\n",
        "\n",
        "\n",
        "def scheduler_fn(lr, init_lr, warmup_steps, num_train_steps):\n",
        "    decay_steps = num_train_steps - warmup_steps\n",
        "    warmup_fn = optax.linear_schedule(init_value=init_lr, end_value=lr, transition_steps=warmup_steps)\n",
        "    decay_fn = optax.linear_schedule(init_value=lr, end_value=1e-7, transition_steps=decay_steps)\n",
        "    lr = optax.join_schedules(schedules=[warmup_fn, decay_fn], boundaries=[warmup_steps])\n",
        "    return lr\n",
        "\n",
        "\n",
        "def build_tx(lr, init_lr, warmup_steps, num_train_steps, weight_decay):\n",
        "    def weight_decay_mask(params):\n",
        "        params = traverse_util.flatten_dict(params)\n",
        "        mask = {k: (v[-1] != \"bias\" and v[-2:] != (\"LayerNorm\", \"scale\")) for k, v in params.items()}\n",
        "        return traverse_util.unflatten_dict(mask)\n",
        "    lr = scheduler_fn(lr, init_lr, warmup_steps, num_train_steps)\n",
        "    tx = optax.adamw(learning_rate=lr, weight_decay=weight_decay, mask=weight_decay_mask)\n",
        "    return tx, lr\n",
        "\n",
        "\n",
        "class TrainState(train_state.TrainState):\n",
        "    loss_fn: Callable = struct.field(pytree_node=False)\n",
        "    scheduler_fn: Callable = struct.field(pytree_node=False)\n",
        "\n",
        "\n",
        "@partial(jax.pmap, axis_name=\"batch\")\n",
        "def train_step(state, model_input1, model_input2, drp_rng):\n",
        "    train = True\n",
        "    new_drp_rng, drp_rng = jax.random.split(drp_rng, 2)\n",
        "\n",
        "    def loss_fn(params, model_input1, model_input2, drp_rng):\n",
        "        def _forward(model_input):\n",
        "            attention_mask = model_input[\"attention_mask\"][..., None]\n",
        "            embedding = state.apply_fn(**model_input, params=params, train=train, dropout_rng=drp_rng)[0]\n",
        "            attention_mask = jnp.broadcast_to(attention_mask, jnp.shape(embedding))\n",
        "\n",
        "            embedding = embedding * attention_mask\n",
        "            embedding = jnp.mean(embedding, axis=1)\n",
        "\n",
        "            modulus = jnp.sum(jnp.square(embedding), axis=-1, keepdims=True)\n",
        "            embedding = embedding / jnp.maximum(modulus, 1e-12)\n",
        "\n",
        "            # gather all the embeddings on same device for calculation loss over global batch\n",
        "            embedding = jax.lax.all_gather(embedding, axis_name=\"batch\")\n",
        "            embedding = jnp.reshape(embedding, (-1, embedding.shape[-1]))\n",
        "\n",
        "            return embedding\n",
        "\n",
        "        embedding1, embedding2 = _forward(model_input1), _forward(model_input2)\n",
        "        return state.loss_fn(embedding1, embedding2)\n",
        "\n",
        "    grad_fn = jax.value_and_grad(loss_fn)\n",
        "    loss, grads = grad_fn(state.params, model_input1, model_input2, drp_rng)\n",
        "    state = state.apply_gradients(grads=grads)\n",
        "\n",
        "    metrics = {\"tr_loss\": loss, \"lr\": state.scheduler_fn(state.step)}\n",
        "    return state, metrics, new_drp_rng\n",
        "\n",
        "\n",
        "@partial(jax.pmap, axis_name=\"batch\")\n",
        "def val_step(state, model_inputs1, model_inputs2):\n",
        "    train = False\n",
        "\n",
        "    def _forward(model_input):\n",
        "        attention_mask = model_input[\"attention_mask\"][..., None]\n",
        "        embedding = state.apply_fn(**model_input, params=state.params, train=train)[0]\n",
        "        attention_mask = jnp.broadcast_to(attention_mask, jnp.shape(embedding))\n",
        "\n",
        "        embedding = embedding * attention_mask\n",
        "        embedding = jnp.mean(embedding, axis=1)\n",
        "\n",
        "        modulus = jnp.sum(jnp.square(embedding), axis=-1, keepdims=True)\n",
        "        embedding = embedding / jnp.maximum(modulus, 1e-12)\n",
        "\n",
        "        # gather all the embeddings on same device for calculation loss over global batch\n",
        "        embedding = jax.lax.all_gather(embedding, axis_name=\"batch\")\n",
        "        embedding = jnp.reshape(embedding, (-1, embedding.shape[-1]))\n",
        "\n",
        "        return embedding\n",
        "\n",
        "    embedding1, embedding2 = _forward(model_inputs1), _forward(model_inputs2)\n",
        "    loss = state.loss_fn(embedding1, embedding2)\n",
        "    return jnp.mean(loss)\n",
        "\n",
        "\n",
        "def get_batched_dataset(dataset, batch_size, seed=None):\n",
        "    if seed is not None:\n",
        "        dataset = dataset.shuffle(seed=seed)\n",
        "    for i in range(len(dataset) // batch_size):\n",
        "        batch = dataset[i*batch_size: (i+1)*batch_size]\n",
        "        yield dict(batch)\n",
        "\n",
        "\n",
        "@dataclass\n",
        "class DataCollator:\n",
        "    tokenizer: Union[PreTrainedTokenizerFast, PreTrainedTokenizer]\n",
        "    input1_maxlen: int = 128\n",
        "    input2_maxlen: int = 128\n",
        "\n",
        "    def __call__(self, batch):\n",
        "        # Currently only static padding; TODO: change below for adding dynamic padding support\n",
        "        model_input1 = self.tokenizer(batch[\"docstring\"], return_tensors=\"jax\", max_length=self.input1_maxlen, truncation=True, padding=\"max_length\")\n",
        "        model_input2 = self.tokenizer(batch[\"code\"], return_tensors=\"jax\", max_length=self.input2_maxlen, truncation=True, padding=\"max_length\")\n",
        "        model_input1, model_input2 = dict(model_input1), dict(model_input2)\n",
        "        return shard(model_input1), shard(model_input2)\n",
        "\n",
        "\n",
        "def save_checkpoint(save_dir, state, save_fn=None, training_args=None):\n",
        "    print(f\"saving checkpoint in {save_dir}\", end=\" ... \")\n",
        "\n",
        "    os.makedirs(save_dir, exist_ok=True)\n",
        "    state = jax_utils.unreplicate(state)\n",
        "\n",
        "    if save_fn is not None:\n",
        "        # saving model in HF fashion\n",
        "        save_fn(save_dir, params=state.params)\n",
        "    else:\n",
        "        path = os.path.join(save_dir, \"flax_model.msgpack\")\n",
        "        with open(path, \"wb\") as f:\n",
        "            f.write(to_bytes(state.params))\n",
        "\n",
        "    # this will save optimizer states\n",
        "    path = os.path.join(save_dir, \"opt_state.msgpack\")\n",
        "    with open(path, \"wb\") as f:\n",
        "        f.write(to_bytes(state.opt_state))\n",
        "\n",
        "    if training_args is not None:\n",
        "        path = os.path.join(save_dir, \"training_args.json\")\n",
        "        with open(path, \"w\") as f:\n",
        "            json.dump(asdict(training_args), f)\n",
        "\n",
        "    print(\"done!!\")\n",
        "\n",
        "\n",
        "def prepare_dataset(args):\n",
        "    tr_dataset = load_dataset(\"csv\", data_files=args.tr_data_files, split=\"train\")\n",
        "    val_dataset = load_dataset(\"csv\", data_files=args.val_data_files, split=\"train\")\n",
        "\n",
        "    # ensures similar processing to all splits at once\n",
        "    dataset = DatasetDict(train=tr_dataset, validation=val_dataset)\n",
        "\n",
        "    # columns_to_remove = ['repo', 'path', 'func_name', 'original_string', 'sha', 'url', 'partition']\n",
        "    # dataset = dataset.remove_columns(columns_to_remove)\n",
        "\n",
        "    # drop extra batch from the end\n",
        "    for split in dataset:\n",
        "        num_samples = len(dataset[split]) - len(dataset[split]) % args.batch_size\n",
        "        dataset[split] = dataset[split].shuffle(seed=args.seed).select(range(num_samples))\n",
        "\n",
        "    print(dataset)\n",
        "    tr_dataset, val_dataset = dataset[\"train\"], dataset[\"validation\"]\n",
        "    return tr_dataset, val_dataset\n",
        "\n",
        "    \n",
        "def main(args, logger):\n",
        "    os.makedirs(args.save_dir, exist_ok=True)\n",
        "    \n",
        "    model = FlaxAutoModel.from_pretrained(args.model_id)\n",
        "    tokenizer = AutoTokenizer.from_pretrained(args.model_id)\n",
        "\n",
        "    data_collator = DataCollator(\n",
        "        tokenizer=tokenizer,\n",
        "        input1_maxlen=args.input1_maxlen,\n",
        "        input2_maxlen=args.input2_maxlen,\n",
        "    )\n",
        "\n",
        "    tr_dataset, val_dataset = prepare_dataset(args)\n",
        "\n",
        "    tx_args = {\n",
        "        \"lr\": args.lr,\n",
        "        \"init_lr\": args.init_lr,\n",
        "        \"warmup_steps\": args.warmup_steps,\n",
        "        \"num_train_steps\": (len(tr_dataset) // args.batch_size) * args.max_epochs,\n",
        "        \"weight_decay\": args.weight_decay,\n",
        "    }\n",
        "    tx, lr = build_tx(**tx_args)\n",
        "\n",
        "    state = TrainState.create(\n",
        "        apply_fn=model.__call__,\n",
        "        params=model.params,\n",
        "        tx=tx,\n",
        "        loss_fn=multiple_negatives_ranking_loss,\n",
        "        scheduler_fn=lr,\n",
        "    )\n",
        "    state = jax_utils.replicate(state)\n",
        "\n",
        "    rng = jax.random.PRNGKey(args.seed)\n",
        "    drp_rng = jax.random.split(rng, jax.device_count())\n",
        "    for epoch in range(args.max_epochs):\n",
        "        # training step\n",
        "        total = len(tr_dataset) // args.batch_size\n",
        "        batch_iterator = get_batched_dataset(tr_dataset, args.batch_size, seed=epoch)\n",
        "        for i, batch in tqdm(enumerate(batch_iterator), desc=f\"Running epoch-{epoch}\", total=total):\n",
        "            model_input1, model_input2 = data_collator(batch)\n",
        "            state, metrics, drp_rng = train_step(state, model_input1, model_input2, drp_rng)\n",
        "\n",
        "            if (i + 1) % args.logging_steps == 0:\n",
        "                tr_loss = jax_utils.unreplicate(metrics[\"tr_loss\"]).item()\n",
        "                tqdm.write(str(dict(tr_loss=tr_loss, step=i+1)))\n",
        "                logger.log({\n",
        "                    \"tr_loss\": tr_loss,\n",
        "                    \"step\": i + 1,\n",
        "                }, commit=True)\n",
        "\n",
        "        # evaluation\n",
        "        val_loss  = jnp.array(0.)\n",
        "        total = len(val_dataset) // args.batch_size\n",
        "        val_batch_iterator = get_batched_dataset(val_dataset, args.batch_size, seed=None)\n",
        "        for j, batch in tqdm(enumerate(val_batch_iterator), desc=f\"evaluating after epoch-{epoch}\", total=total):\n",
        "            model_input1, model_input2 = data_collator(batch)\n",
        "            val_step_loss = val_step(state, model_input1, model_input2)\n",
        "            val_loss += jax_utils.unreplicate(val_step_loss)\n",
        "\n",
        "        val_loss = val_loss.item() / (j + 1)\n",
        "        print(f\"val_loss: {val_loss}\")\n",
        "        logger.log({\"val_loss\": val_loss}, commit=True)\n",
        "        \n",
        "        save_dir = args.save_dir + f\"-epoch-{epoch}\"\n",
        "        save_checkpoint(save_dir, state, save_fn=model.save_pretrained, training_args=args)"
      ],
      "execution_count": 11,
      "outputs": []
    },
    {
      "cell_type": "code",
      "metadata": {
        "colab": {
          "base_uri": "https://localhost:8080/",
          "height": 749,
          "referenced_widgets": [
            "f4a2d67c800344789f6e179de38897c2",
            "65029c069ed64ec197a6e15e2f8e99af",
            "88911981966947ea85f4b36a520722ee",
            "0d7e0fe7689546ca96a1e899a50a8b34",
            "e640e6cc71bd461099b369d167c6aab4",
            "ce577f88092641d69b5f85239c73ae8a",
            "206544701fb04f7e9eb76d2418877f6f",
            "c4c7c46310d14acd9494ffd76cb98ff7",
            "5c23b854f34d4b6eaceb9d6592337a0c",
            "3318d97a650f439dbc4dc047be21df95",
            "85f12f40b2c24efdab48edc4e22df440",
            "bbf9f288da774d6f95b87875f3b0eeb3",
            "0993fc8b640c4aafa30420161eb4b848",
            "2bf7b69576584c0abc14dbc1fa840444",
            "be793e137dcf45699fd6aa3d8db745d3",
            "0f0369a4fd00417083ed810d4d2244b5",
            "6077e5967c4c4670a8a258f9f07d7e34",
            "b83ff09efda248f3aa5b0f982b127a8f",
            "5a4606e7b24648f89a483d9c232be420",
            "fc642e8556844201951f7d3a80409e5b",
            "85677bf919aa42e196993ecdc6c682c1",
            "802e7189e5924a7f9ff8475da4445402",
            "abd6a5e4ee50460f9686863a951cdee9",
            "1711631c305e47f2bdf8ad9409036959",
            "35a59f08cbb742b786b45e447e019da0",
            "c726b0c486f64414a8f76b954f5aab64",
            "e9e7dde80ed047919311714178406d09",
            "4a39b73e47cb4e1e96155da8ea2628ab",
            "a4a6c88a44d3469f9ae44acaae1ca772",
            "01444ded1a9148daab24a0cd10876557",
            "1fd22d4513f04f40b1d8945d959c9f2c",
            "ad7ca56ca73949a1868cecac689bdf72"
          ]
        },
        "id": "swlFYH22lzwM",
        "outputId": "cd71a4e9-990d-4dc8-e6a8-26510adbb114"
      },
      "source": [
        "args = TrainingArgs()\n",
        "logger = wandb.init(project=\"code-search-net\", config=asdict(args))\n",
        "logging_dict = dict(logger.config); logging_dict[\"save_dir\"] += f\"-{logger.id}\"\n",
        "args = replace(args, **logging_dict)\n",
        "\n",
        "print(args)\n",
        "main(args, logger)"
      ],
      "execution_count": null,
      "outputs": [
        {
          "output_type": "display_data",
          "data": {
            "text/html": [
              "Finishing last run (ID:2zeo8r71) before initializing another..."
            ],
            "text/plain": [
              "<IPython.core.display.HTML object>"
            ]
          },
          "metadata": {
            "tags": []
          }
        },
        {
          "output_type": "display_data",
          "data": {
            "text/html": [
              "<br/>Waiting for W&B process to finish, PID 253<br/>Program ended successfully."
            ],
            "text/plain": [
              "<IPython.core.display.HTML object>"
            ]
          },
          "metadata": {
            "tags": []
          }
        },
        {
          "output_type": "display_data",
          "data": {
            "application/vnd.jupyter.widget-view+json": {
              "model_id": "f4a2d67c800344789f6e179de38897c2",
              "version_minor": 0,
              "version_major": 2
            },
            "text/plain": [
              "VBox(children=(Label(value=' 0.00MB of 0.00MB uploaded (0.00MB deduped)\\r'), FloatProgress(value=1.0, max=1.0)…"
            ]
          },
          "metadata": {
            "tags": []
          }
        },
        {
          "output_type": "display_data",
          "data": {
            "text/html": [
              "Find user logs for this run at: <code>/content/wandb/run-20210705_144249-2zeo8r71/logs/debug.log</code>"
            ],
            "text/plain": [
              "<IPython.core.display.HTML object>"
            ]
          },
          "metadata": {
            "tags": []
          }
        },
        {
          "output_type": "display_data",
          "data": {
            "text/html": [
              "Find internal logs for this run at: <code>/content/wandb/run-20210705_144249-2zeo8r71/logs/debug-internal.log</code>"
            ],
            "text/plain": [
              "<IPython.core.display.HTML object>"
            ]
          },
          "metadata": {
            "tags": []
          }
        },
        {
          "output_type": "display_data",
          "data": {
            "text/html": [
              "Synced 5 W&B file(s), 0 media file(s), 0 artifact file(s) and 0 other file(s)"
            ],
            "text/plain": [
              "<IPython.core.display.HTML object>"
            ]
          },
          "metadata": {
            "tags": []
          }
        },
        {
          "output_type": "display_data",
          "data": {
            "text/html": [
              "\n",
              "                    <br/>Synced <strong style=\"color:#cdcd00\">kind-dream-7</strong>: <a href=\"https://wandb.ai/asi/code-search-net/runs/2zeo8r71\" target=\"_blank\">https://wandb.ai/asi/code-search-net/runs/2zeo8r71</a><br/>\n",
              "                "
            ],
            "text/plain": [
              "<IPython.core.display.HTML object>"
            ]
          },
          "metadata": {
            "tags": []
          }
        },
        {
          "output_type": "display_data",
          "data": {
            "text/html": [
              "...Successfully finished last run (ID:2zeo8r71). Initializing new run:<br/><br/>"
            ],
            "text/plain": [
              "<IPython.core.display.HTML object>"
            ]
          },
          "metadata": {
            "tags": []
          }
        },
        {
          "output_type": "display_data",
          "data": {
            "text/html": [
              "\n",
              "                Tracking run with wandb version 0.10.33<br/>\n",
              "                Syncing run <strong style=\"color:#cdcd00\">stilted-armadillo-8</strong> to <a href=\"https://wandb.ai\" target=\"_blank\">Weights & Biases</a> <a href=\"https://docs.wandb.com/integrations/jupyter.html\" target=\"_blank\">(Documentation)</a>.<br/>\n",
              "                Project page: <a href=\"https://wandb.ai/asi/code-search-net\" target=\"_blank\">https://wandb.ai/asi/code-search-net</a><br/>\n",
              "                Run page: <a href=\"https://wandb.ai/asi/code-search-net/runs/2a5xfp0y\" target=\"_blank\">https://wandb.ai/asi/code-search-net/runs/2a5xfp0y</a><br/>\n",
              "                Run data is saved locally in <code>/content/wandb/run-20210705_144451-2a5xfp0y</code><br/><br/>\n",
              "            "
            ],
            "text/plain": [
              "<IPython.core.display.HTML object>"
            ]
          },
          "metadata": {
            "tags": []
          }
        },
        {
          "output_type": "stream",
          "text": [
            "TrainingArgs(model_id='microsoft/codebert-base', max_epochs=2, batch_size_per_device=32, seed=42, lr=2e-05, init_lr=1e-05, warmup_steps=2000, weight_decay=0.001, input1_maxlen=128, input2_maxlen=128, logging_steps=20, save_dir='checkpoints-2a5xfp0y', tr_data_files=['tr.csv'], val_data_files=['val.csv'])\n"
          ],
          "name": "stdout"
        },
        {
          "output_type": "stream",
          "text": [
            "WARNING:datasets.builder:Using custom data configuration default-f843dba51fffa426\n"
          ],
          "name": "stderr"
        },
        {
          "output_type": "stream",
          "text": [
            "Downloading and preparing dataset csv/default (download: Unknown size, generated: Unknown size, post-processed: Unknown size, total: Unknown size) to /root/.cache/huggingface/datasets/csv/default-f843dba51fffa426/0.0.0/2dc6629a9ff6b5697d82c25b73731dd440507a69cbce8b425db50b751e8fcfd0...\n"
          ],
          "name": "stdout"
        },
        {
          "output_type": "display_data",
          "data": {
            "application/vnd.jupyter.widget-view+json": {
              "model_id": "5c23b854f34d4b6eaceb9d6592337a0c",
              "version_minor": 0,
              "version_major": 2
            },
            "text/plain": [
              "HBox(children=(FloatProgress(value=1.0, bar_style='info', max=1.0), HTML(value='')))"
            ]
          },
          "metadata": {
            "tags": []
          }
        },
        {
          "output_type": "stream",
          "text": [
            "\rDataset csv downloaded and prepared to /root/.cache/huggingface/datasets/csv/default-f843dba51fffa426/0.0.0/2dc6629a9ff6b5697d82c25b73731dd440507a69cbce8b425db50b751e8fcfd0. Subsequent calls will reuse this data.\n"
          ],
          "name": "stdout"
        },
        {
          "output_type": "stream",
          "text": [
            "WARNING:datasets.builder:Using custom data configuration default-e124bbb4b2c79ce6\n"
          ],
          "name": "stderr"
        },
        {
          "output_type": "stream",
          "text": [
            "Downloading and preparing dataset csv/default (download: Unknown size, generated: Unknown size, post-processed: Unknown size, total: Unknown size) to /root/.cache/huggingface/datasets/csv/default-e124bbb4b2c79ce6/0.0.0/2dc6629a9ff6b5697d82c25b73731dd440507a69cbce8b425db50b751e8fcfd0...\n"
          ],
          "name": "stdout"
        },
        {
          "output_type": "display_data",
          "data": {
            "application/vnd.jupyter.widget-view+json": {
              "model_id": "6077e5967c4c4670a8a258f9f07d7e34",
              "version_minor": 0,
              "version_major": 2
            },
            "text/plain": [
              "HBox(children=(FloatProgress(value=1.0, bar_style='info', max=1.0), HTML(value='')))"
            ]
          },
          "metadata": {
            "tags": []
          }
        },
        {
          "output_type": "stream",
          "text": [
            "\rDataset csv downloaded and prepared to /root/.cache/huggingface/datasets/csv/default-e124bbb4b2c79ce6/0.0.0/2dc6629a9ff6b5697d82c25b73731dd440507a69cbce8b425db50b751e8fcfd0. Subsequent calls will reuse this data.\n",
            "DatasetDict({\n",
            "    train: Dataset({\n",
            "        features: ['docstring', 'code'],\n",
            "        num_rows: 1237504\n",
            "    })\n",
            "    validation: Dataset({\n",
            "        features: ['docstring', 'code'],\n",
            "        num_rows: 137472\n",
            "    })\n",
            "})\n"
          ],
          "name": "stdout"
        },
        {
          "output_type": "stream",
          "text": [
            "/usr/local/lib/python3.7/dist-packages/jax/lib/xla_bridge.py:383: UserWarning: jax.host_count has been renamed to jax.process_count. This alias will eventually be removed; please update your code.\n",
            "  \"jax.host_count has been renamed to jax.process_count. This alias \"\n",
            "/usr/local/lib/python3.7/dist-packages/jax/lib/xla_bridge.py:370: UserWarning: jax.host_id has been renamed to jax.process_index. This alias will eventually be removed; please update your code.\n",
            "  \"jax.host_id has been renamed to jax.process_index. This alias \"\n"
          ],
          "name": "stderr"
        },
        {
          "output_type": "display_data",
          "data": {
            "application/vnd.jupyter.widget-view+json": {
              "model_id": "35a59f08cbb742b786b45e447e019da0",
              "version_minor": 0,
              "version_major": 2
            },
            "text/plain": [
              "HBox(children=(FloatProgress(value=0.0, description='Running epoch-0', max=4834.0, style=ProgressStyle(descrip…"
            ]
          },
          "metadata": {
            "tags": []
          }
        },
        {
          "output_type": "stream",
          "text": [
            "/usr/local/lib/python3.7/dist-packages/jax/_src/numpy/lax_numpy.py:3183: UserWarning: Explicitly requested dtype <class 'jax._src.numpy.lax_numpy.int64'> requested in arange is not available, and will be truncated to dtype int32. To enable more dtypes, set the jax_enable_x64 configuration option or the JAX_ENABLE_X64 shell environment variable. See https://github.com/google/jax#current-gotchas for more.\n",
            "  lax._check_user_dtype_supported(dtype, \"arange\")\n"
          ],
          "name": "stderr"
        }
      ]
    },
    {
      "cell_type": "code",
      "metadata": {
        "id": "HcG40LNv6iM0"
      },
      "source": [
        ""
      ],
      "execution_count": null,
      "outputs": []
    }
  ]
}