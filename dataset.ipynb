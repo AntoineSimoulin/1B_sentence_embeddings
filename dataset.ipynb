{
 "cells": [
  {
   "cell_type": "markdown",
   "id": "f3859bff",
   "metadata": {},
   "source": [
    "# Load datasets"
   ]
  },
  {
   "cell_type": "code",
   "execution_count": 90,
   "id": "dc1656e7",
   "metadata": {},
   "outputs": [],
   "source": [
    "import json\n",
    "import gzip\n",
    "import os\n",
    "import pandas as pd\n",
    "import urllib.request\n",
    "\n",
    "import copy\n",
    "import torch\n",
    "from torch.utils.data import Dataset, DataLoader, IterableDataset"
   ]
  },
  {
   "cell_type": "code",
   "execution_count": 91,
   "id": "adee1192",
   "metadata": {},
   "outputs": [
    {
     "data": {
      "text/plain": [
       "'1.8.0'"
      ]
     },
     "execution_count": 91,
     "metadata": {},
     "output_type": "execute_result"
    }
   ],
   "source": [
    "torch.__version__"
   ]
  },
  {
   "cell_type": "code",
   "execution_count": 50,
   "id": "572f4f31",
   "metadata": {},
   "outputs": [
    {
     "data": {
      "text/plain": [
       "'1.2.4'"
      ]
     },
     "execution_count": 50,
     "metadata": {},
     "output_type": "execute_result"
    }
   ],
   "source": [
    "pd.__version__"
   ]
  },
  {
   "cell_type": "code",
   "execution_count": 51,
   "id": "ee9a4d19",
   "metadata": {},
   "outputs": [],
   "source": [
    "datasets = pd.read_csv(\n",
    "  'datasets_list.tsv', \n",
    "   index_col=0, \n",
    "   sep='\\t',\n",
    "   dtype={\n",
    "     'Description': str,\n",
    "     'Size (#Pairs)': str,\n",
    "     'Performance': float,\n",
    "     'Download link': str,\n",
    "     'Source': str})\n",
    "datasets['Size (#Pairs)'] = datasets['Size (#Pairs)'].str.replace(',', '').astype(int)\n",
    "datasets = datasets.to_dict(orient='index')"
   ]
  },
  {
   "cell_type": "code",
   "execution_count": 69,
   "id": "d36fa680",
   "metadata": {},
   "outputs": [
    {
     "data": {
      "text/plain": [
       "{'Description': '(Title, Title) pairs of duplicate questions from StackExchange',\n",
       " 'Size (#Pairs)': 304525,\n",
       " 'Performance': 58.47,\n",
       " 'Download link': 'https://public.ukp.informatik.tu-darmstadt.de/reimers/sentence-transformers/datasets/paraphrases/stackexchange_duplicate_questions_title_title.jsonl.gz',\n",
       " 'Source': nan}"
      ]
     },
     "execution_count": 69,
     "metadata": {},
     "output_type": "execute_result"
    }
   ],
   "source": [
    "datasets['stackexchange_duplicate_questions_title_title']"
   ]
  },
  {
   "cell_type": "code",
   "execution_count": 63,
   "id": "4b85fca9",
   "metadata": {},
   "outputs": [],
   "source": [
    "def download_dataset(url, file_name):\n",
    "  urllib.request.urlretrieve(url, file_name)\n",
    "  return"
   ]
  },
  {
   "cell_type": "code",
   "execution_count": 81,
   "id": "cf40fccf",
   "metadata": {},
   "outputs": [],
   "source": [
    "def load_dataset(file_name):\n",
    "  with gzip.open(file_name, \"rb\") as f:\n",
    "    dataset = [json.loads(jline) for jline in f.read().splitlines()]\n",
    "    return dataset"
   ]
  },
  {
   "cell_type": "code",
   "execution_count": 70,
   "id": "ea6df33d",
   "metadata": {},
   "outputs": [],
   "source": [
    "download_dataset(\n",
    "  datasets['stackexchange_duplicate_questions_title_title']['Download link'],\n",
    "  os.path.join(os.path.abspath('.'), 'data', 'stackexchange_duplicate_questions_title_title.json.gz'))"
   ]
  },
  {
   "cell_type": "markdown",
   "id": "b1b83f36",
   "metadata": {},
   "source": [
    "## Test"
   ]
  },
  {
   "cell_type": "code",
   "execution_count": 82,
   "id": "ac5650a2",
   "metadata": {},
   "outputs": [],
   "source": [
    "dataset_test = load_dataset(os.path.join(os.path.abspath('.'), 'data', 'stackexchange_duplicate_questions_title_title.json.gz'))"
   ]
  },
  {
   "cell_type": "code",
   "execution_count": 83,
   "id": "22e3a0d8",
   "metadata": {},
   "outputs": [
    {
     "data": {
      "text/plain": [
       "['what is the advantage of using the GPU rendering options in Android?',\n",
       " 'Can anyone explain all these Developer Options?']"
      ]
     },
     "execution_count": 83,
     "metadata": {},
     "output_type": "execute_result"
    }
   ],
   "source": [
    "dataset_test[0]"
   ]
  },
  {
   "cell_type": "code",
   "execution_count": 85,
   "id": "840f2bcb",
   "metadata": {},
   "outputs": [
    {
     "data": {
      "text/plain": [
       "304525"
      ]
     },
     "execution_count": 85,
     "metadata": {},
     "output_type": "execute_result"
    }
   ],
   "source": [
    "len(dataset_test)"
   ]
  },
  {
   "cell_type": "code",
   "execution_count": 95,
   "id": "76048403",
   "metadata": {},
   "outputs": [],
   "source": [
    "dataset_itr = gzip.open(os.path.join(os.path.abspath('.'), 'data', 'stackexchange_duplicate_questions_title_title.json.gz'), \"rb\")"
   ]
  },
  {
   "cell_type": "code",
   "execution_count": 108,
   "id": "2507bc90",
   "metadata": {},
   "outputs": [
    {
     "name": "stdout",
     "output_type": "stream",
     "text": [
      "How can I prove the following sequence converges\n",
      "Find value of the limit: $\\lim_{n\\to \\infty}\\sqrt[n]{1^2+2^2+\\cdots+n^2}$\n"
     ]
    }
   ],
   "source": [
    "answer, question = json.loads(next(dataset_itr))\n",
    "print(answer)\n",
    "print(question)"
   ]
  },
  {
   "cell_type": "code",
   "execution_count": null,
   "id": "6e195cb5",
   "metadata": {},
   "outputs": [],
   "source": [
    "dataset_itr.close()"
   ]
  },
  {
   "cell_type": "markdown",
   "id": "e705edd2",
   "metadata": {},
   "source": [
    "## Download all datasets"
   ]
  },
  {
   "cell_type": "code",
   "execution_count": 128,
   "id": "713e412e",
   "metadata": {},
   "outputs": [
    {
     "name": "stdout",
     "output_type": "stream",
     "text": [
      "Downloading dataset stackexchange_title_body_small\n",
      "Downloading dataset gooaq_pairs\n",
      "Downloading dataset msmarco-query_passage_negative\n",
      "Downloading dataset yahoo_answers_title_answer\n",
      "Downloading dataset stackexchange_duplicate_questions_title_title\n",
      "Downloading dataset msmarco-query_passage\n",
      "Downloading dataset eli5_question_answer\n",
      "Downloading dataset yahoo_answers_title_question\n",
      "Downloading dataset squad_pairs\n",
      "Downloading dataset yahoo_answers_question_answer\n",
      "Downloading dataset NQ-train_pairs\n",
      "Downloading dataset quora_duplicates\n",
      "Downloading dataset WikiAnswers_pairs\n",
      "Downloading dataset stackexchange_duplicate_questions_title-body_title-body\n",
      "Downloading dataset S2ORC_citation_pairs\n",
      "Downloading dataset stackexchange_duplicate_questions_body_body\n",
      "Downloading dataset quora_duplicates_triplets\n",
      "Downloading dataset AllNLI\n",
      "Downloading dataset specter_train_triples\n",
      "Downloading dataset SimpleWiki\n",
      "Downloading dataset PAQ_pairs\n",
      "Downloading dataset altlex\n",
      "Downloading dataset CodeSearchNet\n",
      "Downloading dataset sentence-compression\n",
      "Downloading dataset TriviaQA_pairs\n",
      "Downloading dataset flickr30k_captions\n",
      "Downloading dataset coco_captions\n",
      "Downloading dataset fever_train\n"
     ]
    }
   ],
   "source": [
    "for d in datasets.keys():\n",
    "  print('Downloading dataset {}'.format(d))\n",
    "  download_dataset(\n",
    "    datasets[d]['Download link'],\n",
    "    os.path.join(os.path.abspath('/data/asimouli/sentence_pairs'), d + 'json.gz'))"
   ]
  },
  {
   "cell_type": "markdown",
   "id": "cb533484",
   "metadata": {},
   "source": [
    "## Iterable Dataset"
   ]
  },
  {
   "cell_type": "code",
   "execution_count": 125,
   "id": "cb304936",
   "metadata": {},
   "outputs": [],
   "source": [
    "class TextIterator:\n",
    "    def __init__(self, text_iterator, batch_size, num_workers, transform=None):\n",
    "        self.batch_size = batch_size\n",
    "        self.iter_number = 0\n",
    "        self.num_workers = num_workers\n",
    "        self.text_iterator = text_iterator\n",
    "        self.transform = transform\n",
    "\n",
    "    def __iter__(self):\n",
    "        return self.text_iterator\n",
    "\n",
    "    def __next__(self):\n",
    "        if self.iter_number == self.batch_size:\n",
    "            self.iter_number = 0\n",
    "            for _ in range(self.batch_size * (self.num_workers - 1)):\n",
    "                next(self.text_iterator)\n",
    "        self.iter_number += 1\n",
    "        answer, question = json.loads(next(self.text_iterator))\n",
    "        sample = {'question': question, 'answer': answer}\n",
    "        sample = copy.deepcopy(sample)\n",
    "        if self.transform:\n",
    "            sample = self.transform(sample)\n",
    "        return sample\n",
    "      \n",
    "    def __del__(self):\n",
    "        self.text_iterator.close()\n",
    "\n",
    "\n",
    "class TextSimpleIterator:\n",
    "    def __init__(self, text_iterator, transform=None):\n",
    "        self.text_iterator = text_iterator\n",
    "        self.transform = transform\n",
    "\n",
    "    def __iter__(self):\n",
    "        return self.text_iterator\n",
    "\n",
    "    def __next__(self):\n",
    "        answer, question = json.loads(next(self.text_iterator))\n",
    "        sample = {'question': question, 'answer': answer}\n",
    "        if self.transform:\n",
    "            sample = self.transform(sample)\n",
    "        return sample\n",
    "      \n",
    "    def __del__(self):\n",
    "        self.text_iterator.close()\n",
    "\n",
    "class IterableCorpusDataset(IterableDataset):\n",
    "    def __init__(self, file_path, batch_size, num_workers, start=0, transform=None):\n",
    "        self.file_path = file_path\n",
    "        self.batch_size = batch_size\n",
    "        self.num_workers = num_workers\n",
    "        self.start = start\n",
    "        self.transform = transform\n",
    "\n",
    "    def __iter__(self):\n",
    "        worker_info = torch.utils.data.get_worker_info()\n",
    "        dataset_itr = gzip.open(self.file_path, \"rb\")\n",
    "        if worker_info is None:\n",
    "            dataset_itr = gzip.open(self.file_path, \"rb\")\n",
    "            for _ in range(self.start):\n",
    "                next(dataset_itr)\n",
    "            return TextSimpleIterator(dataset_itr, self.transform)\n",
    "        else:\n",
    "            worker_id = worker_info.id\n",
    "            for _ in range(self.start):\n",
    "                next(dataset_itr)\n",
    "            for _ in range(self.batch_size * worker_id):\n",
    "                next(dataset_itr)\n",
    "            return TextIterator(dataset_itr, self.batch_size, self.num_workers, self.transform)\n",
    "          \n",
    "      "
   ]
  },
  {
   "cell_type": "code",
   "execution_count": 126,
   "id": "b4baed7b",
   "metadata": {},
   "outputs": [],
   "source": [
    "corpus_dataset = IterableCorpusDataset(\n",
    "  file_path=os.path.join(os.path.abspath('.'), 'data', 'stackexchange_duplicate_questions_title_title.json.gz'), \n",
    "  batch_size=2,\n",
    "  num_workers=0, \n",
    "  transform=None)\n",
    "corpus_dataset_itr = iter(corpus_dataset)"
   ]
  },
  {
   "cell_type": "code",
   "execution_count": 127,
   "id": "f6b5ba2c",
   "metadata": {},
   "outputs": [
    {
     "data": {
      "text/plain": [
       "{'question': 'Can anyone explain all these Developer Options?',\n",
       " 'answer': 'what is the advantage of using the GPU rendering options in Android?'}"
      ]
     },
     "execution_count": 127,
     "metadata": {},
     "output_type": "execute_result"
    }
   ],
   "source": [
    "next(corpus_dataset_itr)"
   ]
  },
  {
   "cell_type": "code",
   "execution_count": null,
   "id": "a5862afe",
   "metadata": {},
   "outputs": [],
   "source": []
  }
 ],
 "metadata": {
  "kernelspec": {
   "display_name": "Python 3",
   "language": "python",
   "name": "python3"
  },
  "language_info": {
   "codemirror_mode": {
    "name": "ipython",
    "version": 3
   },
   "file_extension": ".py",
   "mimetype": "text/x-python",
   "name": "python",
   "nbconvert_exporter": "python",
   "pygments_lexer": "ipython3",
   "version": "3.8.3"
  }
 },
 "nbformat": 4,
 "nbformat_minor": 5
}
